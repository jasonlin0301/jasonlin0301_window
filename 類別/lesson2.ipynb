{
 "cells": [
  {
   "cell_type": "code",
   "execution_count": 35,
   "metadata": {},
   "outputs": [
    {
     "name": "stdout",
     "output_type": "stream",
     "text": [
      "<class '__main__.Person'>\n",
      "p1.name=林宣安\n",
      "p2.name=jasonlin0301\n"
     ]
    }
   ],
   "source": [
    "class Person():\n",
    "    def __init__(self,n:str):\n",
    "       self.name = n\n",
    "    def __repr__(self):\n",
    "       return f'我是person的實體,我名字是:{self.name}'\n",
    "p1:Person=Person('林宣安')\n",
    "print(type(p1))\n",
    "print(f'p1.name={p1.name}')\n",
    "\n",
    "p2:Person=Person('jasonlin0301')\n",
    "p2.name\n",
    "print(f'p2.name={p2.name}')"
   ]
  },
  {
   "cell_type": "code",
   "execution_count": 33,
   "metadata": {},
   "outputs": [
    {
     "name": "stdout",
     "output_type": "stream",
     "text": [
      "林宣安 分數:270\n",
      "jasonlin 分數:270\n"
     ]
    }
   ],
   "source": [
    "class Student(Person):\n",
    "    def __init__(self,name:str,s:int):\n",
    "        super().__init__(n=name)\n",
    "        self.scores=s\n",
    "    def __repr__(self):\n",
    "       return f'我是Student的實體,我的名字是:{self.name},我的分數:{self.scores}'   \n",
    "s1:Student=Student(name='林宣安',s=270)\n",
    "print(s1.name,f'分數:{s1.scores}')\n",
    "s1.name\n",
    "s2:Student=Student(name='jasonlin',s=250)\n",
    "print(s2.name,f'分數:{s1.scores}')"
   ]
  },
  {
   "cell_type": "code",
   "execution_count": 37,
   "metadata": {},
   "outputs": [
    {
     "name": "stdout",
     "output_type": "stream",
     "text": [
      "我是person的實體,我名字是:林宣安\n",
      "我是Student的實體,我的名字是:林宣安,我的分數:270\n",
      "我是person的實體,我名字是:jasonlin0301\n",
      "我是Student的實體,我的名字是:jasonlin,我的分數:250\n"
     ]
    }
   ],
   "source": [
    "print(p1)\n",
    "print(s1)\n",
    "\n",
    "print(p2)\n",
    "print(s2)"
   ]
  }
 ],
 "metadata": {
  "kernelspec": {
   "display_name": "myenv",
   "language": "python",
   "name": "python3"
  },
  "language_info": {
   "codemirror_mode": {
    "name": "ipython",
    "version": 3
   },
   "file_extension": ".py",
   "mimetype": "text/x-python",
   "name": "python",
   "nbconvert_exporter": "python",
   "pygments_lexer": "ipython3",
   "version": "3.10.14"
  }
 },
 "nbformat": 4,
 "nbformat_minor": 2
}

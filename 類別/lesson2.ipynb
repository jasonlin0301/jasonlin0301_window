{
 "cells": [
  {
   "cell_type": "code",
   "execution_count": 35,
   "metadata": {},
   "outputs": [
    {
     "name": "stdout",
     "output_type": "stream",
     "text": [
      "<class '__main__.Person'>\n",
      "p1.name=林宣安\n",
      "p2.name=jasonlin0301\n"
     ]
    }
   ],
   "source": [
    "class Person():\n",
    "    def __init__(self,n:str):\n",
    "       self.name = n\n",
    "    def __repr__(self):\n",
    "       return f'我是person的實體,我名字是:{self.name}'\n",
    "p1:Person=Person('林宣安')\n",
    "print(type(p1))\n",
    "print(f'p1.name={p1.name}')\n",
    "\n",
    "p2:Person=Person('jasonlin0301')\n",
    "p2.name\n",
    "print(f'p2.name={p2.name}')"
   ]
  },
  {
   "cell_type": "code",
   "execution_count": 49,
   "metadata": {},
   "outputs": [
    {
     "name": "stdout",
     "output_type": "stream",
     "text": [
      "林宣安\n",
      "Jason Lin\n"
     ]
    }
   ],
   "source": [
    "class Student(Person):\n",
    "    def __init__(self,name:str,chinese:int,english:int,math:int):\n",
    "        super().__init__(n=name)\n",
    "        self.__chinese = chinese\n",
    "        self.__english = english\n",
    "        self.__math = math\n",
    "    \n",
    "    @property\n",
    "    def chinese(self):\n",
    "        return self.__chinese\n",
    "\n",
    "    @property\n",
    "    def english(self):\n",
    "        return self.__english\n",
    "\n",
    "    @property\n",
    "    def math(self):\n",
    "        return self.__math\n",
    "    \n",
    "    @property\n",
    "    def scores(self):\n",
    "        return self.__chinese + self.__english + self.__math\n",
    "\n",
    "    def average(self):\n",
    "        return self.scores / 3\n",
    "    \n",
    "    def __repr__(self):\n",
    "        message = f\"我是Student的實體,我的名字是:{self.name}\\n\"\n",
    "        message += f\"國文分數:{self.__chinese}\\n\"\n",
    "        message += f\"英文分數:{self.__english}\\n\"\n",
    "        message += f\"數學分數:{self.__math}\\n\"\n",
    "        return message\n",
    "\n",
    "s1:Student = Student(name=\"林宣安\",chinese=89,english=72,math=94)\n",
    "print(s1.name)\n",
    "\n",
    "\n",
    "s2:Student = Student(name=\"Jason Lin\",math=65,english=92,chinese=84)\n",
    "print(s2.name)\n"
   ]
  },
  {
   "cell_type": "code",
   "execution_count": 50,
   "metadata": {},
   "outputs": [
    {
     "name": "stdout",
     "output_type": "stream",
     "text": [
      "我是Student的實體,我的名字是:林宣安\n",
      "國文分數:89\n",
      "英文分數:72\n",
      "數學分數:94\n",
      "\n",
      "總分:255\n",
      "平均:85.0\n"
     ]
    }
   ],
   "source": [
    "# print(p1)\n",
    "print(s1)\n",
    "\n",
    "# print(p2)\n",
    "# print(s2)\n",
    "print(f\"總分:{s1.scores}\")\n",
    "print(f\"平均:{s1.average()}\")"
   ]
  }
 ],
 "metadata": {
  "kernelspec": {
   "display_name": "myenv",
   "language": "python",
   "name": "python3"
  },
  "language_info": {
   "codemirror_mode": {
    "name": "ipython",
    "version": 3
   },
   "file_extension": ".py",
   "mimetype": "text/x-python",
   "name": "python",
   "nbconvert_exporter": "python",
   "pygments_lexer": "ipython3",
   "version": "3.10.14"
  }
 },
 "nbformat": 4,
 "nbformat_minor": 2
}

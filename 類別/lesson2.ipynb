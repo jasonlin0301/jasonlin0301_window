{
 "cells": [
  {
   "cell_type": "code",
   "execution_count": 18,
   "metadata": {},
   "outputs": [
    {
     "name": "stdout",
     "output_type": "stream",
     "text": [
      "<class '__main__.Person'>\n",
      "p1.name=林宣安\n",
      "p2.name=jasonlin0301\n"
     ]
    }
   ],
   "source": [
    "class Person():\n",
    "    def __init__(self,n:str):\n",
    "       self.name = n\n",
    "    pass\n",
    "\n",
    "p1:Person=Person('林宣安')\n",
    "print(type(p1))\n",
    "print(f'p1.name={p1.name}')\n",
    "\n",
    "p2:Person=Person('jasonlin0301')\n",
    "p2.name\n",
    "print(f'p2.name={p2.name}')"
   ]
  },
  {
   "cell_type": "code",
   "execution_count": 20,
   "metadata": {},
   "outputs": [
    {
     "name": "stdout",
     "output_type": "stream",
     "text": [
      "林宣安 分數:270\n",
      "jasonlin 分數:270\n"
     ]
    }
   ],
   "source": [
    "class Student(Person):\n",
    "    def __init__(self,name:str,s:int):\n",
    "        super().__init__(n=name)\n",
    "        self.scores=s\n",
    "s1=Student(name='林宣安',s=270)\n",
    "print(s1.name,f'分數:{s1.scores}')\n",
    "s1.name\n",
    "s2=Student(name='jasonlin',s=250)\n",
    "print(s2.name,f'分數:{s1.scores}')"
   ]
  }
 ],
 "metadata": {
  "kernelspec": {
   "display_name": "myenv",
   "language": "python",
   "name": "python3"
  },
  "language_info": {
   "codemirror_mode": {
    "name": "ipython",
    "version": 3
   },
   "file_extension": ".py",
   "mimetype": "text/x-python",
   "name": "python",
   "nbconvert_exporter": "python",
   "pygments_lexer": "ipython3",
   "version": "3.10.14"
  }
 },
 "nbformat": 4,
 "nbformat_minor": 2
}

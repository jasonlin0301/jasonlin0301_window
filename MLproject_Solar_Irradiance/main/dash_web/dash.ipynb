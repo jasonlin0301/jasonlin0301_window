{
 "cells": [
  {
   "cell_type": "code",
   "execution_count": 13,
   "metadata": {},
   "outputs": [
    {
     "ename": "ModuleNotFoundError",
     "evalue": "No module named 'calculator'",
     "output_type": "error",
     "traceback": [
      "\u001b[1;31m---------------------------------------------------------------------------\u001b[0m",
      "\u001b[1;31mModuleNotFoundError\u001b[0m                       Traceback (most recent call last)",
      "Cell \u001b[1;32mIn[13], line 6\u001b[0m\n\u001b[0;32m      4\u001b[0m \u001b[38;5;28;01mfrom\u001b[39;00m \u001b[38;5;21;01mPIL\u001b[39;00m \u001b[38;5;28;01mimport\u001b[39;00m Image\n\u001b[0;32m      5\u001b[0m \u001b[38;5;28;01mimport\u001b[39;00m \u001b[38;5;21;01mbase64\u001b[39;00m\n\u001b[1;32m----> 6\u001b[0m \u001b[38;5;28;01mimport\u001b[39;00m \u001b[38;5;21;01mcalculator\u001b[39;00m  \u001b[38;5;66;03m# 確保已經有這個模組\u001b[39;00m\n\u001b[0;32m      8\u001b[0m \u001b[38;5;66;03m# 從CSV加載數據\u001b[39;00m\n\u001b[0;32m      9\u001b[0m file_path \u001b[38;5;241m=\u001b[39m \u001b[38;5;124m'\u001b[39m\u001b[38;5;124mtemp_solar/processed_data_v2.csv\u001b[39m\u001b[38;5;124m'\u001b[39m\n",
      "\u001b[1;31mModuleNotFoundError\u001b[0m: No module named 'calculator'"
     ]
    }
   ],
   "source": [
    "import dash\n",
    "from dash import dcc, html\n",
    "import pandas as pd\n",
    "from PIL import Image\n",
    "import base64\n",
    "import calculator  # 確保已經有這個模組\n",
    "\n",
    "# 從CSV加載數據\n",
    "file_path = 'temp_solar/processed_data_v2.csv'\n",
    "data = pd.read_csv(file_path)\n",
    "\n",
    "# 設置顯示圖像的函數\n",
    "def display_image(image_path):\n",
    "    encoded_image = base64.b64encode(open(image_path, 'rb').read())\n",
    "    return f'data:image/png;base64,{encoded_image.decode()}'\n",
    "\n",
    "app = dash.Dash(__name__)\n",
    "\n",
    "# 創建主要的 layout\n",
    "app.layout = html.Div([\n",
    "    html.H1(\"CSV查看器與圖片\"),\n",
    "    \n",
    "    # 創建Treeview\n",
    "    html.Div([\n",
    "        dcc.TreeView(\n",
    "            id='tree',\n",
    "            columns=[{'name': col, 'id': col} for col in data.columns],\n",
    "            data=[{'id': index, 'values': list(row)} for index, row in data.iterrows()]\n",
    "        )\n",
    "    ], style={'width': '50%', 'display': 'inline-block'}),\n",
    "    \n",
    "    # 創建按鈕和圖像顯示框\n",
    "    html.Div([\n",
    "        html.Div([\n",
    "            html.Button(text, id=f'button-{idx}', n_clicks=0) for idx, (text, _) in enumerate(button_texts)\n",
    "        ]),\n",
    "        html.Div(id='image-display')\n",
    "    ], style={'width': '50%', 'display': 'inline-block'}),\n",
    "    \n",
    "    # 添加計算器按鈕\n",
    "    html.Button(\"太陽能系統評估計算\", id='calc-button', n_clicks=0),\n",
    "    html.Div(id='calculator-output')\n",
    "])\n",
    "\n",
    "# 回調函數來更新圖像和計算器部分\n",
    "@app.callback(\n",
    "    dash.dependencies.Output('image-display', 'children'),\n",
    "    [dash.dependencies.Input(f'button-{idx}', 'n_clicks') for idx, _ in enumerate(button_texts)]\n",
    ")\n",
    "def update_image(n_clicks):\n",
    "    ctx = dash.callback_context\n",
    "    if not ctx.triggered:\n",
    "        button_id = 'button-0'\n",
    "    else:\n",
    "        button_id = ctx.triggered[0]['prop_id'].split('.')[0]\n",
    "\n",
    "    if button_id.startswith('button-'):\n",
    "        idx = int(button_id.split('-')[1])\n",
    "        path = button_texts[idx][1]\n",
    "        return html.Img(src=display_image(path), style={'width': '80%', 'height': '80%'})\n",
    "\n",
    "@app.callback(\n",
    "    dash.dependencies.Output('calculator-output', 'children'),\n",
    "    [dash.dependencies.Input('calc-button', 'n_clicks')]\n",
    ")\n",
    "def update_calculator(n_clicks):\n",
    "    if n_clicks > 0:\n",
    "        return calculator.create_ui()\n",
    "\n",
    "if __name__ == '__main__':\n",
    "    app.run_server(port=5000, debug=False)\n"
   ]
  }
 ],
 "metadata": {
  "kernelspec": {
   "display_name": "myenv",
   "language": "python",
   "name": "python3"
  },
  "language_info": {
   "codemirror_mode": {
    "name": "ipython",
    "version": 3
   },
   "file_extension": ".py",
   "mimetype": "text/x-python",
   "name": "python",
   "nbconvert_exporter": "python",
   "pygments_lexer": "ipython3",
   "version": "3.10.14"
  }
 },
 "nbformat": 4,
 "nbformat_minor": 2
}

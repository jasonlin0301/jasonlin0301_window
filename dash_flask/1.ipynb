{
 "cells": [
  {
   "cell_type": "code",
   "execution_count": 2,
   "metadata": {},
   "outputs": [
    {
     "name": "stderr",
     "output_type": "stream",
     "text": [
      "WARNING: This is a development server. Do not use it in a production deployment. Use a production WSGI server instead.\n",
      " * Running on http://localhost:8056\n",
      "Press CTRL+C to quit\n",
      " * Restarting with stat\n"
     ]
    },
    {
     "ename": "SystemExit",
     "evalue": "1",
     "output_type": "error",
     "traceback": [
      "An exception has occurred, use %tb to see the full traceback.\n",
      "\u001b[1;31mSystemExit\u001b[0m\u001b[1;31m:\u001b[0m 1\n"
     ]
    },
    {
     "name": "stderr",
     "output_type": "stream",
     "text": [
      "c:\\Users\\user\\miniconda3\\envs\\myenv\\lib\\site-packages\\IPython\\core\\interactiveshell.py:3585: UserWarning:\n",
      "\n",
      "To exit: use 'exit', 'quit', or Ctrl-D.\n",
      "\n"
     ]
    }
   ],
   "source": [
    "from flask import Flask, render_template\n",
    "from werkzeug.middleware.dispatcher import DispatcherMiddleware\n",
    "from werkzeug.serving import run_simple\n",
    "from dashboard.board1 import app1\n",
    "from dashboard.board2 import app2\n",
    "from dashboard.board3 import app3\n",
    "\n",
    "\n",
    "app = Flask(__name__)\n",
    "\n",
    "# 使用 DispatcherMiddleware 將多個 Dash 應用與 Flask 應用結合\n",
    "application = DispatcherMiddleware(app, {\n",
    "    \"/dashboard/app1\": app1.server,\n",
    "    \"/dashboard/app2\": app2.server,\n",
    "    \"/dashboard/app3\": app3.server,\n",
    "})\n",
    "\n",
    "@app.route(\"/\")\n",
    "def index():\n",
    "    return render_template(\"index.html\")\n",
    "\n",
    "@app.route(\"/dashboard/app2\")\n",
    "def dashboard_app2():\n",
    "    return render_template(\"index.html.jinja\")\n",
    "\n",
    "@app.route(\"/dashboard/app3\")\n",
    "def dashboard_app3():\n",
    "    return render_template(\"index1.html.jinja\")\n",
    "\n",
    "if __name__ == '__main__':\n",
    "    run_simple(\"localhost\", 8056, application, use_debugger=True, use_reloader=True)\n"
   ]
  }
 ],
 "metadata": {
  "kernelspec": {
   "display_name": "myenv",
   "language": "python",
   "name": "python3"
  },
  "language_info": {
   "codemirror_mode": {
    "name": "ipython",
    "version": 3
   },
   "file_extension": ".py",
   "mimetype": "text/x-python",
   "name": "python",
   "nbconvert_exporter": "python",
   "pygments_lexer": "ipython3",
   "version": "3.10.14"
  }
 },
 "nbformat": 4,
 "nbformat_minor": 2
}

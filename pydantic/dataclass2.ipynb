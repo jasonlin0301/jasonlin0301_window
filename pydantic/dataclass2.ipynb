{
 "cells": [
  {
   "cell_type": "code",
   "execution_count": 1,
   "metadata": {},
   "outputs": [],
   "source": [
    "from dataclasses import dataclass\n",
    "\n",
    "@dataclass\n",
    "class InventryItem:\n",
    "    \"\"\"\"\"Class for keeping track of an iten in inventory.\"\"\"\n",
    "    name:str\n",
    "    unit_price:float\n",
    "    quantity_on_hand:int=0"
   ]
  },
  {
   "cell_type": "code",
   "execution_count": 2,
   "metadata": {},
   "outputs": [
    {
     "name": "stdout",
     "output_type": "stream",
     "text": [
      "InventryItem(name='手機殼', unit_price=150.5, quantity_on_hand=0)\n",
      "手機殼\n",
      "150.5\n",
      "0\n"
     ]
    }
   ],
   "source": [
    "iten1=InventryItem(name='手機殼',unit_price=150.5)\n",
    "print(iten1)\n",
    "print(iten1.name)\n",
    "print(iten1.unit_price)\n",
    "print(iten1.quantity_on_hand)"
   ]
  }
 ],
 "metadata": {
  "kernelspec": {
   "display_name": "myenv",
   "language": "python",
   "name": "python3"
  },
  "language_info": {
   "codemirror_mode": {
    "name": "ipython",
    "version": 3
   },
   "file_extension": ".py",
   "mimetype": "text/x-python",
   "name": "python",
   "nbconvert_exporter": "python",
   "pygments_lexer": "ipython3",
   "version": "3.10.14"
  }
 },
 "nbformat": 4,
 "nbformat_minor": 2
}

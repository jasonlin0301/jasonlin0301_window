{
 "cells": [
  {
   "cell_type": "code",
   "execution_count": 4,
   "metadata": {},
   "outputs": [
    {
     "ename": "ImportError",
     "evalue": "cannot import name 'app3' from 'dashboard.board3' (c:\\Users\\user\\Documents\\GitHub\\jasonlin0301_window\\dash_flask\\dashboard\\board3.py)",
     "output_type": "error",
     "traceback": [
      "\u001b[1;31m---------------------------------------------------------------------------\u001b[0m",
      "\u001b[1;31mImportError\u001b[0m                               Traceback (most recent call last)",
      "Cell \u001b[1;32mIn[4], line 6\u001b[0m\n\u001b[0;32m      4\u001b[0m \u001b[38;5;28;01mfrom\u001b[39;00m \u001b[38;5;21;01mdashboard\u001b[39;00m\u001b[38;5;21;01m.\u001b[39;00m\u001b[38;5;21;01mboard1\u001b[39;00m \u001b[38;5;28;01mimport\u001b[39;00m app1\n\u001b[0;32m      5\u001b[0m \u001b[38;5;28;01mfrom\u001b[39;00m \u001b[38;5;21;01mdashboard\u001b[39;00m\u001b[38;5;21;01m.\u001b[39;00m\u001b[38;5;21;01mboard2\u001b[39;00m \u001b[38;5;28;01mimport\u001b[39;00m app2\n\u001b[1;32m----> 6\u001b[0m \u001b[38;5;28;01mfrom\u001b[39;00m \u001b[38;5;21;01mdashboard\u001b[39;00m\u001b[38;5;21;01m.\u001b[39;00m\u001b[38;5;21;01mboard3\u001b[39;00m \u001b[38;5;28;01mimport\u001b[39;00m app3\n\u001b[0;32m      8\u001b[0m app \u001b[38;5;241m=\u001b[39m Flask(\u001b[38;5;18m__name__\u001b[39m)\n\u001b[0;32m     10\u001b[0m \u001b[38;5;66;03m# 使用 DispatcherMiddleware 將多個 Dash 應用與 Flask 應用結合\u001b[39;00m\n",
      "\u001b[1;31mImportError\u001b[0m: cannot import name 'app3' from 'dashboard.board3' (c:\\Users\\user\\Documents\\GitHub\\jasonlin0301_window\\dash_flask\\dashboard\\board3.py)"
     ]
    }
   ],
   "source": [
    "from flask import Flask, render_template\n",
    "from werkzeug.middleware.dispatcher import DispatcherMiddleware\n",
    "from werkzeug.serving import run_simple\n",
    "from dashboard.board1 import app1\n",
    "from dashboard.board2 import app2\n",
    "from dashboard.board3 import app3\n",
    "\n",
    "app = Flask(__name__)\n",
    "\n",
    "# 使用 DispatcherMiddleware 將多個 Dash 應用與 Flask 應用結合\n",
    "application = DispatcherMiddleware(app, {\n",
    "    \"/dashboard/app1\": app1.server,\n",
    "    \"/dashboard/app2\": app2.server,\n",
    "    \"/dashboard/app3\": app3.server,\n",
    "})\n",
    "\n",
    "@app.route(\"/\")\n",
    "def index():\n",
    "    # 渲染靜態首頁\n",
    "    return render_template(\"index.html\")\n",
    "\n",
    "@app.route(\"/dashboard/app2\")\n",
    "def dashboard_app2():\n",
    "    # 渲染另外一個靜態頁面，如果需要的話\n",
    "    return render_template(\"index.html.jinja\")\n",
    "\n",
    "@app.route(\"/dashboard/app3\")\n",
    "def dashboard_app2():\n",
    "    # 渲染另外一個靜態頁面，如果需要的話\n",
    "    return render_template(\"index1.html.jinja\")\n",
    "\n",
    "if __name__ == '__main__':\n",
    "    app.run_server(host='127.0.0.1', port=8056, debug=False)\n"
   ]
  }
 ],
 "metadata": {
  "kernelspec": {
   "display_name": "myenv",
   "language": "python",
   "name": "python3"
  },
  "language_info": {
   "codemirror_mode": {
    "name": "ipython",
    "version": 3
   },
   "file_extension": ".py",
   "mimetype": "text/x-python",
   "name": "python",
   "nbconvert_exporter": "python",
   "pygments_lexer": "ipython3",
   "version": "3.10.14"
  }
 },
 "nbformat": 4,
 "nbformat_minor": 2
}
